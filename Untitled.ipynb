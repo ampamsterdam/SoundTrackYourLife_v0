{
 "cells": [
  {
   "cell_type": "code",
   "execution_count": 54,
   "metadata": {
    "collapsed": false
   },
   "outputs": [],
   "source": [
    "import re as re\n",
    "import string\n",
    "import numpy as np\n"
   ]
  },
  {
   "cell_type": "code",
   "execution_count": 61,
   "metadata": {
    "collapsed": false,
    "scrolled": true
   },
   "outputs": [
    {
     "name": "stdout",
     "output_type": "stream",
     "text": [
      "['https://feeds.soundcloud.com/stream/427593582-user-734136599-voorbrian7-wbert3.mp3\\n', 'https://feeds.soundcloud.com/stream/427589469-user-734136599-thechno-1.mp3\\n', 'https://feeds.soundcloud.com/stream/426580746-user-734136599-overtune.mp3\\n', 'https://feeds.soundcloud.com/stream/423921354-user-734136599-fremito.mp3\\n']\n"
     ]
    }
   ],
   "source": [
    "with open('feed.txt') as myinput:\n",
    "    contents=myinput.read()\n",
    "    mymatch=re.findall(r'http(.+?)mp3',contents)\n",
    "    allmymatches=['https' + mymatch[x] + 'mp3' for x in range(len(mymatch))]\n",
    "print(allmymatches)"
   ]
  },
  {
   "cell_type": "code",
   "execution_count": 64,
   "metadata": {
    "collapsed": false
   },
   "outputs": [],
   "source": [
    "myfile=open('aaa.txt','wr')\n",
    "myfile.writelines([\"%s \\n\"%allmymatches[x] for x in range(len(allmymatches))])\n",
    "myfile.close()"
   ]
  },
  {
   "cell_type": "code",
   "execution_count": 57,
   "metadata": {
    "collapsed": false
   },
   "outputs": [
    {
     "name": "stdout",
     "output_type": "stream",
     "text": [
      "Untitled.ipynb  feed.txt        templates.yaml  utils.pyc\r\n",
      "aaa.txt.npy     play_audio.py   utils.py\r\n"
     ]
    }
   ],
   "source": [
    "ls"
   ]
  },
  {
   "cell_type": "code",
   "execution_count": 34,
   "metadata": {
    "collapsed": true
   },
   "outputs": [],
   "source": [
    "a=re.search(r'(ftp|http)*\\.(mp3)$', contents)"
   ]
  },
  {
   "cell_type": "code",
   "execution_count": 35,
   "metadata": {
    "collapsed": true
   },
   "outputs": [],
   "source": [
    "a"
   ]
  },
  {
   "cell_type": "code",
   "execution_count": 45,
   "metadata": {
    "collapsed": false
   },
   "outputs": [
    {
     "data": {
      "text/plain": [
       "'<?xml version=\\'1.0\\' encoding=\\'UTF-8\\'?>\\n<rss version=\"2.0\" xmlns:itunes=\"http://www.itunes.com/dtds/podcast-1.0.dtd\" xmlns:atom=\"http://www.w3.org/2005/Atom\">\\n      <channel>\\n        <atom:link href=\"http://feeds.soundcloud.com/users/soundcloud:users:305490538/sounds.rss\" rel=\"self\" type=\"application/rss+xml\"/>\\n        <atom:link href=\"http://feeds.soundcloud.com/users/soundcloud:users:305490538/sounds.rss?before=423921354\" rel=\"next\" type=\"application/rss+xml\"/>\\n        <title>Copo Solari - Guitar</title>\\n        <link>http://soundcloud.com/user-734136599</link>\\n        <pubDate>Tue, 10 Apr 2018 09:58:20 +0000</pubDate>\\n        <lastBuildDate>Tue, 10 Apr 2018 09:58:20 +0000</lastBuildDate>\\n        <ttl>60</ttl>\\n        <language>en</language>\\n        <copyright>All rights reserved</copyright>\\n        <webMaster>feeds@soundcloud.com (SoundCloud Feeds)</webMaster>\\n        <description>Podcast by Copo Solari - Guitar</description>\\n        <itunes:subtitle>Podcast by Copo Solari - Guitar</itunes:subtitle>\\n        <itunes:owner>\\n          <itunes:name>Copo Solari - Guitar</itunes:name>\\n          <itunes:email>feeds@soundcloud.com</itunes:email>\\n        </itunes:owner>\\n        <itunes:author>Copo Solari - Guitar</itunes:author>\\n        <itunes:explicit>no</itunes:explicit>\\n        <itunes:image href=\"http://a1.sndcdn.com/images/default_avatar_original.png\"/>\\n        <image>\\n          <url>http://a1.sndcdn.com/images/default_avatar_original.png</url>\\n          <title>Copo Solari - Guitar</title>\\n          <link>http://soundcloud.com/user-734136599</link>\\n        </image>\\n        <itunes:category text=\"Music\"/>\\n        <item>\\n      <guid isPermaLink=\"false\">tag:soundcloud,2010:tracks/427593582</guid>\\n      <title>VoorBrian7 WBert3</title>\\n      <pubDate>Tue, 10 Apr 2018 09:58:20 +0000</pubDate>\\n      <link>https://soundcloud.com/user-734136599/voorbrian7-wbert3</link>\\n      <itunes:duration>00:03:30</itunes:duration>\\n      <itunes:author>Copo Solari - Guitar</itunes:author>\\n      <itunes:explicit>no</itunes:explicit>\\n      <itunes:summary>VoorBrian7 WBert3 by Copo Solari - Guitar</itunes:summary>\\n      <itunes:subtitle>VoorBrian7 WBert3 by Copo Solari - Guitar</itunes:subtitle>\\n      <description>VoorBrian7 WBert3 by Copo Solari - Guitar</description>\\n      <enclosure type=\"audio/mpeg\" url=\"http://feeds.soundcloud.com/stream/427593582-user-734136599-voorbrian7-wbert3.mp3\" length=\"5063492\"/>\\n      <itunes:image href=\"http://a1.sndcdn.com/images/default_avatar_original.png\"/>\\n    </item><item>\\n      <guid isPermaLink=\"false\">tag:soundcloud,2010:tracks/427589469</guid>\\n      <title>THECHNO 1</title>\\n      <pubDate>Tue, 10 Apr 2018 09:40:34 +0000</pubDate>\\n      <link>https://soundcloud.com/user-734136599/thechno-1</link>\\n      <itunes:duration>00:01:22</itunes:duration>\\n      <itunes:author>Copo Solari - Guitar</itunes:author>\\n      <itunes:explicit>no</itunes:explicit>\\n      <itunes:summary>THECHNO 1 by Copo Solari - Guitar</itunes:summary>\\n      <itunes:subtitle>THECHNO 1 by Copo Solari - Guitar</itunes:subtitle>\\n      <description>THECHNO 1 by Copo Solari - Guitar</description>\\n      <enclosure type=\"audio/mpeg\" url=\"http://feeds.soundcloud.com/stream/427589469-user-734136599-thechno-1.mp3\" length=\"1972684\"/>\\n      <itunes:image href=\"http://a1.sndcdn.com/images/default_avatar_original.png\"/>\\n    </item><item>\\n      <guid isPermaLink=\"false\">tag:soundcloud,2010:tracks/426580746</guid>\\n      <title>Overtune</title>\\n      <pubDate>Sun, 08 Apr 2018 14:03:48 +0000</pubDate>\\n      <link>https://soundcloud.com/user-734136599/overtune</link>\\n      <itunes:duration>00:02:38</itunes:duration>\\n      <itunes:author>Copo Solari - Guitar</itunes:author>\\n      <itunes:explicit>no</itunes:explicit>\\n      <itunes:summary>Overtune by Copo Solari - Guitar</itunes:summary>\\n      <itunes:subtitle>Overtune by Copo Solari - Guitar</itunes:subtitle>\\n      <description>Overtune by Copo Solari - Guitar</description>\\n      <enclosure type=\"audio/mpeg\" url=\"http://feeds.soundcloud.com/stream/426580746-user-734136599-overtune.mp3\" length=\"3642086\"/>\\n      <itunes:image href=\"http://a1.sndcdn.com/images/default_avatar_original.png\"/>\\n    </item><item>\\n      <guid isPermaLink=\"false\">tag:soundcloud,2010:tracks/423921354</guid>\\n      <title>Fremito</title>\\n      <pubDate>Mon, 02 Apr 2018 23:47:53 +0000</pubDate>\\n      <link>https://soundcloud.com/user-734136599/fremito</link>\\n      <itunes:duration>00:04:47</itunes:duration>\\n      <itunes:author>Copo Solari - Guitar</itunes:author>\\n      <itunes:explicit>no</itunes:explicit>\\n      <itunes:summary>Fremito by Copo Solari - Guitar</itunes:summary>\\n      <itunes:subtitle>Fremito by Copo Solari - Guitar</itunes:subtitle>\\n      <description>Fremito by Copo Solari - Guitar</description>\\n      <enclosure type=\"audio/mpeg\" url=\"http://feeds.soundcloud.com/stream/423921354-user-734136599-fremito.mp3\" length=\"2302152\"/>\\n      <itunes:image href=\"http://a1.sndcdn.com/images/default_avatar_original.png\"/>\\n    </item>\\n      </channel>\\n    </rss>'"
      ]
     },
     "execution_count": 45,
     "metadata": {},
     "output_type": "execute_result"
    }
   ],
   "source": [
    "contents"
   ]
  },
  {
   "cell_type": "code",
   "execution_count": null,
   "metadata": {
    "collapsed": true
   },
   "outputs": [],
   "source": []
  }
 ],
 "metadata": {
  "kernelspec": {
   "display_name": "Python 2",
   "language": "python",
   "name": "python2"
  },
  "language_info": {
   "codemirror_mode": {
    "name": "ipython",
    "version": 2
   },
   "file_extension": ".py",
   "mimetype": "text/x-python",
   "name": "python",
   "nbconvert_exporter": "python",
   "pygments_lexer": "ipython2",
   "version": "2.7.12"
  }
 },
 "nbformat": 4,
 "nbformat_minor": 2
}
